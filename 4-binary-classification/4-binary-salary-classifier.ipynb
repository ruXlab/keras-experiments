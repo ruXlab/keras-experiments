{
 "cells": [
  {
   "cell_type": "markdown",
   "metadata": {},
   "source": [
    "Salary binary classifier\n",
    "========================\n",
    "\n",
    "Based on dataset from [UC Irvine Machine Learning Repository](https://archive.ics.uci.edu/ml/machine-learning-databases/adult/). The goal is predict salary level **<50K** or **>50K** using 14 input variables such as _age, education, sex and home country_\n",
    "\n",
    "This script doesn't use KerasClassifier but manual implementation which simply round predictions to integer \n"
   ]
  },
  {
   "cell_type": "code",
   "execution_count": 1,
   "metadata": {
    "collapsed": false
   },
   "outputs": [
    {
     "name": "stderr",
     "output_type": "stream",
     "text": [
      "Using TensorFlow backend.\n",
      "/home/rux/.local/lib/python3.5/site-packages/sklearn/utils/fixes.py:55: DeprecationWarning: inspect.getargspec() is deprecated, use inspect.signature() instead\n",
      "  if 'order' in inspect.getargspec(np.copy)[0]:\n"
     ]
    }
   ],
   "source": [
    "import numpy as np\n",
    "import os.path\n",
    "import urllib, csv\n",
    "import pandas \n",
    "from keras.models import Sequential\n",
    "from keras.layers import Dense, Activation, Dropout\n",
    "from sklearn.preprocessing import LabelEncoder\n",
    "from keras.layers.normalization import BatchNormalization\n",
    "\n",
    "\n",
    "# Dataset folder located  at thttps://archive.ics.uci.edu/ml/machine-learning-databases/adult/\n",
    "dataset_url = \"https://archive.ics.uci.edu/ml/machine-learning-databases/adult/adult.data\"\n",
    "dataset_filename = \"adult.data\"\n",
    "\n",
    "eval_percent = 20\n",
    "\n",
    "np.random.seed(4)"
   ]
  },
  {
   "cell_type": "code",
   "execution_count": 2,
   "metadata": {
    "collapsed": false
   },
   "outputs": [
    {
     "name": "stdout",
     "output_type": "stream",
     "text": [
      "Got shapes for inputs for training (14072, 14) and evaluation (3518, 14)\n"
     ]
    }
   ],
   "source": [
    "# Loading dataset\n",
    "if not os.path.isfile(dataset_filename):\n",
    "    print(\"Downloading dataset from {}\".format(dataset_url))\n",
    "    urllib.request.urlretrieve(dataset_url, dataset_filename)\n",
    "\n",
    "headers = [\"age\", \"type_employer\", \"fnlwgt\", \"education\", \n",
    "                \"education_num\",\"marital\", \"occupation\", \"relationship\", \"race\",\"sex\",\n",
    "                \"capital_gain\", \"capital_loss\", \"hr_per_week\",\"country\", \"income\"]\n",
    "df = pandas.read_csv(dataset_filename, header = 0, skipinitialspace = True, skip_blank_lines=True, names = headers)\n",
    "\n",
    "# Cleanup data\n",
    "df = df[df.country.notnull()]\n",
    "df = df[df.income.notnull()]\n",
    "\n",
    "# Encode labels to numbers using LabelEncoder\n",
    "mapping = {}\n",
    "for col in df.select_dtypes(include=['object']).columns.values.tolist():\n",
    "    mapping[col] = LabelEncoder()\n",
    "    mapping[col].fit(df[col])\n",
    "    df[col] = mapping[col].transform(df[col]).astype(np.int32)\n",
    "\n",
    "# Shuffle it\n",
    "df = df.reindex(np.random.permutation(df.index))\n",
    "\n",
    "# Get eval dataset\n",
    "edf = df[0:int(len(df)*eval_percent/100.0)] \n",
    "[Xeval, Yeval] = [edf[edf.columns.difference(['income'])].values, edf['income'].values]\n",
    "\n",
    "# Get training dataset\n",
    "df = df[len(edf):]\n",
    "[X, Y] = [df[df.columns.difference(['income'])].values , df['income'].values]\n",
    "\n",
    "print(\"Got shapes for inputs for training {} and evaluation {}\".format(X.shape, Xeval.shape))"
   ]
  },
  {
   "cell_type": "code",
   "execution_count": 3,
   "metadata": {
    "collapsed": false
   },
   "outputs": [
    {
     "name": "stdout",
     "output_type": "stream",
     "text": [
      "Epoch 1/5\n",
      "14072/14072 [==============================] - 0s - loss: 0.1640 - acc: 0.7927     \n",
      "Epoch 2/5\n",
      "14072/14072 [==============================] - 0s - loss: 0.1560 - acc: 0.8030     \n",
      "Epoch 3/5\n",
      "14072/14072 [==============================] - 0s - loss: 0.1552 - acc: 0.8017     \n",
      "Epoch 4/5\n",
      "14072/14072 [==============================] - 0s - loss: 0.1537 - acc: 0.8034     \n",
      "Epoch 5/5\n",
      "14072/14072 [==============================] - 0s - loss: 0.1549 - acc: 0.8019     \n",
      "3040/3518 [========================>.....] - ETA: 0s\n",
      "loss: 0.15777606581035428\n",
      "acc: 0.7970437747026587\n"
     ]
    }
   ],
   "source": [
    "# Build the model\n",
    "model = Sequential()\n",
    "model.add(Dense(64, input_dim=14, activation='relu', init='normal'))\n",
    "model.add(BatchNormalization())\n",
    "model.add(Dense(128, activation='relu'))\n",
    "model.add(Dense(1, activation='sigmoid'))\n",
    "model.compile(loss='mse', optimizer='adamax', metrics=['accuracy'])\n",
    "\n",
    "# Train it\n",
    "model.fit(X, Y, batch_size=64, nb_epoch=5)\n",
    "\n",
    "# Evaluate trained model on another data\n",
    "metrics = model.evaluate(Xeval, Yeval)\n",
    "print(\"\")\n",
    "print(\"{}: {}\".format(model.metrics_names[0], metrics[0]))\n",
    "print(\"{}: {}\".format(model.metrics_names[1], metrics[1]))\n"
   ]
  },
  {
   "cell_type": "code",
   "execution_count": 4,
   "metadata": {
    "collapsed": false
   },
   "outputs": [
    {
     "name": "stdout",
     "output_type": "stream",
     "text": [
      "Prediction accuracy: 83.0%\n",
      "\n",
      "Sample predictions: \n",
      "   correct  expected  prediction\n",
      "0    False         1    0.185096\n",
      "78    True         0    0.120879\n",
      "9     True         0    0.215378\n",
      "53    True         0    0.225522\n",
      "90   False         1    0.227264\n",
      "51    True         0    0.100754\n",
      "40   False         1    0.176723\n",
      "93    True         0    0.229553\n",
      "54    True         0    0.217546\n",
      "19    True         0    0.179391\n",
      "58    True         0    0.204256\n",
      "81    True         0    0.148152\n",
      "87    True         0    0.231750\n",
      "96   False         1    0.371935\n",
      "20    True         0    0.195555\n",
      "57    True         0    0.093977\n",
      "23    True         0    0.132624\n",
      "60    True         0    0.196099\n",
      "66    True         0    0.163362\n",
      "39    True         0    0.232309\n",
      "43    True         0    0.218273\n",
      "95    True         0    0.210139\n",
      "12    True         0    0.225714\n",
      "59    True         0    0.173467\n",
      "97    True         0    0.201519\n",
      "84    True         0    0.114512\n",
      "65    True         0    0.227582\n",
      "94    True         0    0.235623\n",
      "15    True         0    0.090616\n",
      "77    True         0    0.200434\n"
     ]
    }
   ],
   "source": [
    "# Take a sample and look on prediction results\n",
    "test = edf.sample(100)\n",
    "Xtest = test[test.columns.difference(['income'])].values\n",
    "test['income_predicted'] = model.predict(Xtest)\n",
    "r = np.stack([\n",
    "        test.income_predicted.values, test.income, \n",
    "        np.array(test.income_predicted.values.round() == test.income, dtype=\"bool\")]\n",
    "    , axis=1)\n",
    "\n",
    "\n",
    "r = pandas.DataFrame({\n",
    "        'prediction' : pandas.Series(test.income_predicted.values),\n",
    "        'expected':  pandas.Series(test.income.values),\n",
    "        'correct':  pandas.Series(np.array(test.income_predicted.values.round() == test.income, dtype=\"bool\")),\n",
    "    })\n",
    "\n",
    "print(\"Prediction accuracy: {}%\".format(r.correct[r.correct == True].count() / r.correct.count() * 100))\n",
    "print(\"\")\n",
    "print(\"Sample predictions: \")\n",
    "print(r.sample(30))\n"
   ]
  }
 ],
 "metadata": {
  "kernelspec": {
   "display_name": "Python 3",
   "language": "python",
   "name": "python3"
  },
  "language_info": {
   "codemirror_mode": {
    "name": "ipython",
    "version": 3
   },
   "file_extension": ".py",
   "mimetype": "text/x-python",
   "name": "python",
   "nbconvert_exporter": "python",
   "pygments_lexer": "ipython3",
   "version": "3.5.2"
  }
 },
 "nbformat": 4,
 "nbformat_minor": 1
}
